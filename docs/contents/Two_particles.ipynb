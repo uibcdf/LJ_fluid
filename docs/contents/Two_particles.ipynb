{
 "cells": [
  {
   "cell_type": "code",
   "execution_count": 1,
   "metadata": {},
   "outputs": [],
   "source": [
    "import numpy as np\n",
    "import matplotlib.pyplot as plt\n",
    "import sympy as sy\n",
    "from simtk import openmm as mm\n",
    "from simtk.openmm import app\n",
    "import simtk.unit as unit"
   ]
  },
  {
   "cell_type": "markdown",
   "metadata": {},
   "source": [
    "# Two Lennard-Jones atoms in vacuum\n",
    "\n",
    "## Ar-Ar"
   ]
  },
  {
   "cell_type": "code",
   "execution_count": 17,
   "metadata": {},
   "outputs": [],
   "source": [
    "mass = 39.948 * unit.amu\n",
    "sigma = 3.404 * unit.angstroms\n",
    "epsilon = 0.238 * unit.kilocalories_per_mole"
   ]
  },
  {
   "cell_type": "markdown",
   "metadata": {},
   "source": [
    "Reduced mass of a two particles system with masses $m_1$ and $m_2$:\n",
    "\n",
    "\\begin{equation}\n",
    "m_{red} = \\frac{m_1 * m_2}{m_1 + m_2}\n",
    "\\end{equation}"
   ]
  },
  {
   "cell_type": "code",
   "execution_count": 18,
   "metadata": {},
   "outputs": [],
   "source": [
    "reduced_mass = (mass*mass) / (mass+mass)"
   ]
  },
  {
   "cell_type": "markdown",
   "metadata": {},
   "source": [
    "Position of minimum:\n",
    "\n",
    "\\begin{equation}\n",
    "x_{min} = 2^{1/6} \\sigma\n",
    "\\end{equation}"
   ]
  },
  {
   "cell_type": "code",
   "execution_count": 19,
   "metadata": {},
   "outputs": [],
   "source": [
    "x_min = 2**(1/6)*sigma"
   ]
  },
  {
   "cell_type": "code",
   "execution_count": 20,
   "metadata": {},
   "outputs": [
    {
     "data": {
      "text/plain": [
       "Quantity(value=3.8208608124451056, unit=angstrom)"
      ]
     },
     "execution_count": 20,
     "metadata": {},
     "output_type": "execute_result"
    }
   ],
   "source": [
    "x_min"
   ]
  },
  {
   "cell_type": "markdown",
   "metadata": {},
   "source": [
    "Time period of small oscillations around the minimum:\n",
    "\n",
    "\\begin{equation}\n",
    "\\tau = \\frac{\\pi}{3·2^{1/3}} \\sqrt{\\frac{m\\sigma^2}{\\epsilon}}\n",
    "\\end{equation}"
   ]
  },
  {
   "cell_type": "code",
   "execution_count": 21,
   "metadata": {},
   "outputs": [
    {
     "name": "stdout",
     "output_type": "stream",
     "text": [
      "1.2671354578485272 ps\n"
     ]
    }
   ],
   "source": [
    "tau = (np.pi/(3*2**(1/3))) * np.sqrt((reduced_mass*sigma**2)/epsilon)\n",
    "print(tau)"
   ]
  },
  {
   "cell_type": "markdown",
   "metadata": {},
   "source": [
    "Potential energy surface:"
   ]
  },
  {
   "cell_type": "code",
   "execution_count": 22,
   "metadata": {},
   "outputs": [],
   "source": [
    "system = mm.System()\n",
    "\n",
    "non_bonded_force = mm.NonbondedForce()\n",
    "non_bonded_force.setNonbondedMethod(mm.NonbondedForce.NoCutoff)\n",
    "\n",
    "charge = 0.0 * unit.elementary_charge\n",
    "\n",
    "# First Ar atom\n",
    "system.addParticle(mass)\n",
    "non_bonded_force.addParticle(charge, sigma, epsilon)\n",
    "\n",
    "# Second Ar atom\n",
    "system.addParticle(mass)\n",
    "non_bonded_force.addParticle(charge, sigma, epsilon)\n",
    "\n",
    "system.addForce(non_bonded_force)\n",
    "\n",
    "integrator = mm.VerletIntegrator(2*unit.femtoseconds)\n",
    "platform = mm.Platform.getPlatformByName('CUDA')\n",
    "\n",
    "context = mm.Context(system, integrator, platform)"
   ]
  },
  {
   "cell_type": "code",
   "execution_count": 23,
   "metadata": {},
   "outputs": [],
   "source": [
    "positions = np.zeros([2,3], float) * unit.angstroms\n",
    "\n",
    "x = np.linspace(1.0, 8.0, 200, endpoint=True) * unit.angstroms\n",
    "V = [] * unit.kilocalories_per_mole\n",
    "\n",
    "for xi in x:\n",
    "    positions[1,0] = xi\n",
    "    context.setPositions(positions)\n",
    "    state = context.getState(getEnergy=True)\n",
    "    potential_energy = state.getPotentialEnergy()\n",
    "    V.append(potential_energy)"
   ]
  },
  {
   "cell_type": "code",
   "execution_count": 24,
   "metadata": {},
   "outputs": [
    {
     "data": {
      "image/png": "[encoded data removed]",
      "text/plain": [
       "<Figure size 432x288 with 1 Axes>"
      ]
     },
     "metadata": {
      "needs_background": "light"
     },
     "output_type": "display_data"
    }
   ],
   "source": [
    "V._value = np.array(V._value)\n",
    "\n",
    "xlim_figure = [0.01, 8.0]\n",
    "ylim_figure = [-2.0, 10.0]\n",
    "\n",
    "plt.plot(x, V, linewidth=2)\n",
    "plt.plot(x, LJ(x, sigma, epsilon), linestyle='--', color='red')\n",
    "plt.vlines(x_min._value, ylim_figure[0], ylim_figure[1], linestyles='dashed', color='gray')\n",
    "plt.xlim(xlim_figure)\n",
    "plt.ylim(ylim_figure)\n",
    "plt.xlabel('x [{}]'.format(x.unit.get_symbol()))\n",
    "plt.ylabel('V [{}]'.format(epsilon.unit.get_symbol()))\n",
    "plt.show()"
   ]
  },
  {
   "cell_type": "code",
   "execution_count": 25,
   "metadata": {},
   "outputs": [
    {
     "data": {
      "image/png": "[encoded data removed]",
      "text/plain": [
       "<Figure size 432x288 with 1 Axes>"
      ]
     },
     "metadata": {
      "needs_background": "light"
     },
     "output_type": "display_data"
    }
   ],
   "source": [
    "xlim_figure = [3.0, 5.0]\n",
    "ylim_figure = [-0.4, 0.2]\n",
    "\n",
    "x = np.linspace(xlim_figure[0], xlim_figure[1], 100, True) * unit.angstrom\n",
    "\n",
    "plt.plot(x, LJ(x, sigma, epsilon))\n",
    "plt.vlines(x_min._value, ylim_figure[0], ylim_figure[1], linestyles='dashed', color='gray')\n",
    "\n",
    "plt.xlim(xlim_figure)\n",
    "plt.ylim(ylim_figure)\n",
    "plt.xlabel('x [{}]'.format(x.unit.get_symbol()))\n",
    "plt.ylabel('V [{}]'.format(epsilon.unit.get_symbol()))\n",
    "plt.show()"
   ]
  },
  {
   "cell_type": "markdown",
   "metadata": {},
   "source": [
    "Deterministic dynamics simulation:"
   ]
  },
  {
   "cell_type": "code",
   "execution_count": 26,
   "metadata": {},
   "outputs": [
    {
     "data": {
      "image/png": "[encoded data removed]",
      "text/plain": [
       "<Figure size 432x288 with 1 Axes>"
      ]
     },
     "metadata": {
      "needs_background": "light"
     },
     "output_type": "display_data"
    }
   ],
   "source": [
    "initial_distance = x_min + 0.05 * unit.angstroms\n",
    "simulation_time = 4*tau\n",
    "saving_time = 0.01*tau\n",
    "integration_timestep = 0.01*tau\n",
    "\n",
    "saving_steps = round(saving_time/integration_timestep)\n",
    "n_savings = round(simulation_time/saving_time)\n",
    "\n",
    "integrator = context.getIntegrator()\n",
    "integrator.setStepSize(integration_timestep)\n",
    "\n",
    "trajectory = []*unit.angstroms\n",
    "times = []*unit.picoseconds\n",
    "\n",
    "positions = np.zeros([2,3], float) * unit.angstroms\n",
    "positions[1,0] = initial_distance\n",
    "context.setPositions(positions)\n",
    "\n",
    "velocities = np.zeros([2,3], float) * unit.angstroms/unit.picoseconds\n",
    "context.setVelocities(velocities)\n",
    "\n",
    "context.setTime(0.0*unit.picoseconds)\n",
    "\n",
    "state = context.getState(getPositions=True)\n",
    "positions = state.getPositions(asNumpy=True)\n",
    "time = state.getTime()\n",
    "distance = positions[1,0] - positions[0,0]\n",
    "trajectory.append(distance)\n",
    "times.append(time)\n",
    "\n",
    "for _ in range(n_savings):\n",
    "    \n",
    "    integrator.step(saving_steps)\n",
    "    state = context.getState(getPositions=True)\n",
    "    positions = state.getPositions(asNumpy=True)\n",
    "    time = state.getTime()\n",
    "    distance = positions[1,0] - positions[0,0]\n",
    "    trajectory.append(distance)\n",
    "    times.append(time)\n",
    "\n",
    "times._value = np.array(times._value)\n",
    "trajectory._value = np.array(trajectory._value)\n",
    "\n",
    "plt.plot(times, trajectory)\n",
    "plt.show()"
   ]
  },
  {
   "cell_type": "markdown",
   "metadata": {},
   "source": [
    "- Try to place the initial distance between the pair of atoms further than the simulated above. "
   ]
  },
  {
   "cell_type": "markdown",
   "metadata": {},
   "source": [
    "## Ar-Xe"
   ]
  },
  {
   "cell_type": "code",
   "execution_count": 27,
   "metadata": {},
   "outputs": [],
   "source": [
    "mass_Ar = 39.948 * unit.amu\n",
    "sigma_Ar = 3.404 * unit.angstroms\n",
    "epsilon_Ar = 0.238 * unit.kilocalories_per_mole\n",
    "charge_Ar = 0.0 * unit.elementary_charge\n",
    "\n",
    "mass_Xe = 131.293 * unit.amu\n",
    "sigma_Xe = 3.961 * unit.angstroms\n",
    "epsilon_Xe = 0.459 * unit.kilocalories_per_mole\n",
    "charge_Xe = 0.0 * unit.elementary_charge"
   ]
  },
  {
   "cell_type": "markdown",
   "metadata": {},
   "source": [
    "Construction of sigma and epsilon:\n",
    "\n",
    "\\begin{equation}\n",
    "\\sigma = \\frac{\\sigma_{Ar}+\\sigma_{Xe}}{2}\n",
    "\\end{equation}\n",
    "\n",
    "\\begin{equation}\n",
    "\\epsilon = \\sqrt{\\epsilon_{Ar} \\epsilon_{Xe}}\n",
    "\\end{equation}"
   ]
  },
  {
   "cell_type": "code",
   "execution_count": 28,
   "metadata": {},
   "outputs": [],
   "source": [
    "sigma = 0.5*(sigma_Ar+sigma_Xe)\n",
    "epsilon = np.sqrt(epsilon_Ar*epsilon_Xe)"
   ]
  },
  {
   "cell_type": "markdown",
   "metadata": {},
   "source": [
    "Reduced mass of a two particles system with masses $m_1$ and $m_2$:\n",
    "\n",
    "\\begin{equation}\n",
    "m_{red} = \\frac{m_{Ar} * m_{Xe}}{m_{Ar} + m_{Xe}}\n",
    "\\end{equation}"
   ]
  },
  {
   "cell_type": "code",
   "execution_count": 29,
   "metadata": {},
   "outputs": [],
   "source": [
    "reduced_mass = (mass_Ar*mass_Xe) / (mass_Ar+mass_Xe)"
   ]
  },
  {
   "cell_type": "markdown",
   "metadata": {},
   "source": [
    "Position of minimum:\n",
    "\n",
    "\\begin{equation}\n",
    "x_{min} = 2^{1/6} \\sigma\n",
    "\\end{equation}"
   ]
  },
  {
   "cell_type": "code",
   "execution_count": 30,
   "metadata": {},
   "outputs": [],
   "source": [
    "x_min = 2**(1/6)*sigma"
   ]
  },
  {
   "cell_type": "code",
   "execution_count": 31,
   "metadata": {},
   "outputs": [
    {
     "data": {
      "text/plain": [
       "Quantity(value=4.133466492899267, unit=angstrom)"
      ]
     },
     "execution_count": 31,
     "metadata": {},
     "output_type": "execute_result"
    }
   ],
   "source": [
    "x_min"
   ]
  },
  {
   "cell_type": "markdown",
   "metadata": {},
   "source": [
    "Time period of small oscillations around the minimum:\n",
    "\n",
    "\\begin{equation}\n",
    "\\tau = \\frac{\\pi}{3·2^{1/3}} \\sqrt{\\frac{m\\sigma^2}{\\epsilon}}\n",
    "\\end{equation}"
   ]
  },
  {
   "cell_type": "code",
   "execution_count": 32,
   "metadata": {},
   "outputs": [
    {
     "name": "stdout",
     "output_type": "stream",
     "text": [
      "1.4404534295370355 ps\n"
     ]
    }
   ],
   "source": [
    "tau = (np.pi/(3*2**(1/3))) * np.sqrt((reduced_mass*sigma**2)/epsilon)\n",
    "print(tau)"
   ]
  },
  {
   "cell_type": "code",
   "execution_count": 33,
   "metadata": {},
   "outputs": [],
   "source": [
    "system = mm.System()\n",
    "\n",
    "non_bonded_force = mm.NonbondedForce()\n",
    "non_bonded_force.setNonbondedMethod(mm.NonbondedForce.NoCutoff)\n",
    "\n",
    "# Ar atom\n",
    "system.addParticle(mass_Ar)\n",
    "non_bonded_force.addParticle(charge_Ar, sigma_Ar, epsilon_Ar)\n",
    "\n",
    "# Xe atom\n",
    "system.addParticle(mass_Xe)\n",
    "non_bonded_force.addParticle(charge_Xe, sigma_Xe, epsilon_Xe)\n",
    "\n",
    "system.addForce(non_bonded_force)\n",
    "\n",
    "integrator = mm.VerletIntegrator(2*unit.femtoseconds)\n",
    "platform = mm.Platform.getPlatformByName('CUDA')\n",
    "\n",
    "context = mm.Context(system, integrator, platform)"
   ]
  },
  {
   "cell_type": "code",
   "execution_count": 34,
   "metadata": {},
   "outputs": [],
   "source": [
    "positions = np.zeros([2,3], float) * unit.angstroms\n",
    "\n",
    "x = np.linspace(1.0, 8.0, 200, endpoint=True) * unit.angstroms\n",
    "V = [] * unit.kilocalories_per_mole\n",
    "\n",
    "for xi in x:\n",
    "\n",
    "    positions[1,0] = xi\n",
    "    context.setPositions(positions)\n",
    "    state = context.getState(getEnergy=True)\n",
    "    potential_energy = state.getPotentialEnergy()\n",
    "    V.append(potential_energy)"
   ]
  },
  {
   "cell_type": "code",
   "execution_count": 35,
   "metadata": {},
   "outputs": [
    {
     "data": {
      "image/png": "[encoded data removed]",
      "text/plain": [
       "<Figure size 432x288 with 1 Axes>"
      ]
     },
     "metadata": {
      "needs_background": "light"
     },
     "output_type": "display_data"
    }
   ],
   "source": [
    "V._value = np.array(V._value)\n",
    "\n",
    "xlim_figure = [0.01, 8.0]\n",
    "ylim_figure = [-2.0, 10.0]\n",
    "\n",
    "plt.plot(x, V, linewidth=2)\n",
    "plt.plot(x, LJ(x, sigma, epsilon), linestyle='--', color='red')\n",
    "plt.vlines(x_min._value, ylim_figure[0], ylim_figure[1], linestyles='dashed', color='gray')\n",
    "plt.xlim(xlim_figure)\n",
    "plt.ylim(ylim_figure)\n",
    "plt.xlabel('x [{}]'.format(x.unit.get_symbol()))\n",
    "plt.ylabel('V [{}]'.format(epsilon.unit.get_symbol()))\n",
    "plt.show()"
   ]
  },
  {
   "cell_type": "code",
   "execution_count": 36,
   "metadata": {},
   "outputs": [
    {
     "data": {
      "image/png": "[encoded data removed]",
      "text/plain": [
       "<Figure size 432x288 with 1 Axes>"
      ]
     },
     "metadata": {
      "needs_background": "light"
     },
     "output_type": "display_data"
    }
   ],
   "source": [
    "initial_distance = x_min + 0.05 * unit.angstroms\n",
    "simulation_time = 4*tau\n",
    "saving_time = 0.02*tau\n",
    "integration_timestep = 0.01*tau\n",
    "\n",
    "saving_steps = round(saving_time/integration_timestep)\n",
    "n_savings = round(simulation_time/saving_time)\n",
    "\n",
    "integrator = context.getIntegrator()\n",
    "integrator.setStepSize(integration_timestep)\n",
    "\n",
    "trajectory = []*unit.angstroms\n",
    "times = []*unit.picoseconds\n",
    "\n",
    "positions = np.zeros([2,3], float) * unit.angstroms\n",
    "positions[1,0] = initial_distance\n",
    "context.setPositions(positions)\n",
    "\n",
    "velocities = np.zeros([2,3], float) * unit.angstroms/unit.picoseconds\n",
    "context.setVelocities(velocities)\n",
    "\n",
    "context.setTime(0.0*unit.picoseconds)\n",
    "\n",
    "state = context.getState(getPositions=True)\n",
    "positions = state.getPositions(asNumpy=True)\n",
    "time = state.getTime()\n",
    "distance = positions[1,0] - positions[0,0]\n",
    "trajectory.append(distance)\n",
    "times.append(time)\n",
    "\n",
    "for _ in range(n_savings):\n",
    "\n",
    "    integrator.step(saving_steps)\n",
    "    state = context.getState(getPositions=True)\n",
    "    positions = state.getPositions(asNumpy=True)\n",
    "    time = state.getTime()\n",
    "    distance = positions[1,0] - positions[0,0]\n",
    "    trajectory.append(distance)\n",
    "    times.append(time)\n",
    "\n",
    "times._value = np.array(times._value)\n",
    "trajectory._value = np.array(trajectory._value)\n",
    "\n",
    "plt.plot(times, trajectory)\n",
    "plt.show()"
   ]
  },
  {
   "cell_type": "markdown",
   "metadata": {},
   "source": [
    "-------------\n",
    "\n",
    "**Sources**\n",
    "\n",
    "http://docs.openmm.org/6.3.0/userguide/theory.html#lennard-jones-interaction\n",
    "https://openmmtools.readthedocs.io/en/0.18.1/api/generated/openmmtools.testsystems.LennardJonesPair.html\n",
    "https://openmmtools.readthedocs.io/en/latest/api/generated/openmmtools.testsystems.LennardJonesFluid.html\n",
    "https://gpantel.github.io/computational-method/LJsimulation/"
   ]
  }
 ],
 "metadata": {
  "kernelspec": {
   "display_name": "Python 3",
   "language": "python",
   "name": "python3"
  },
  "language_info": {
   "codemirror_mode": {
    "name": "ipython",
    "version": 3
   },
   "file_extension": ".py",
   "mimetype": "text/x-python",
   "name": "python",
   "nbconvert_exporter": "python",
   "pygments_lexer": "ipython3",
   "version": "3.7.7"
  }
 },
 "nbformat": 4,
 "nbformat_minor": 4
}
