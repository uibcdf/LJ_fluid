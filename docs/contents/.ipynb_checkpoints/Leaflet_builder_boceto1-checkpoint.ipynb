{
 "cells": [
  {
   "cell_type": "code",
   "execution_count": 1,
   "metadata": {},
   "outputs": [],
   "source": [
    "%load_ext autoreload\n",
    "%autoreload 2"
   ]
  },
  {
   "cell_type": "code",
   "execution_count": 4,
   "metadata": {},
   "outputs": [],
   "source": [
    "import numpy as np\n",
    "import matplotlib.pyplot as plt\n",
    "import simtk.unit as unit"
   ]
  },
  {
   "cell_type": "markdown",
   "metadata": {},
   "source": [
    "# Pure POPC membrane"
   ]
  },
  {
   "cell_type": "markdown",
   "metadata": {},
   "source": [
    "Membrane parameters:"
   ]
  },
  {
   "cell_type": "code",
   "execution_count": 5,
   "metadata": {},
   "outputs": [],
   "source": [
    "n_lipids_per_leaflet = 144\n",
    "POPC_surface_area = 68.3 * unit.angstroms**2"
   ]
  },
  {
   "cell_type": "markdown",
   "metadata": {},
   "source": [
    "Leaflets' size estimation:"
   ]
  },
  {
   "cell_type": "code",
   "execution_count": 6,
   "metadata": {},
   "outputs": [],
   "source": [
    "roominess_factor = 4.0/np.pi\n",
    "membrane_area = n_lipids_per_leaflet * POPC_surface_area\n",
    "membrane_side = np.sqrt(membrane_area)"
   ]
  },
  {
   "cell_type": "code",
   "execution_count": 7,
   "metadata": {},
   "outputs": [
    {
     "name": "stdout",
     "output_type": "stream",
     "text": [
      "Initial side of square POPC membrane: 99.17257685469305 A\n"
     ]
    }
   ],
   "source": [
    "print('Initial side of square POPC membrane: {}'.format(membrane_side))"
   ]
  },
  {
   "cell_type": "markdown",
   "metadata": {},
   "source": [
    "Random position of lipid heads:"
   ]
  },
  {
   "cell_type": "code",
   "execution_count": 31,
   "metadata": {},
   "outputs": [],
   "source": [
    "import skopt as skopt\n",
    "\n",
    "square_sampled = np.array([[0.0, 1.0], [0.0, 1.0]]) * membrane_side\n",
    "space = skopt.Space(square_sampled._value)\n",
    "\n",
    "halton_generator = skopt.sampler.Halton()\n",
    "coordinates_upper = halton_generator.generate(space.dimensions, n_lipids_per_leaflet)\n",
    "coordinates_upper = np.array(coordinates_upper) * membrane_side.unit\n",
    "\n",
    "halton_generator = skopt.sampler.Halton(min_skip=n_lipids_per_leaflet, max_skip=n_lipids_per_leaflet)\n",
    "coordinates_bottom = halton_generator.generate(space.dimensions, n_lipids_per_leaflet)\n",
    "coordinates_bottom = np.array(coordinates_bottom) * membrane_side.unit"
   ]
  },
  {
   "cell_type": "code",
   "execution_count": 32,
   "metadata": {},
   "outputs": [
    {
     "data": {
      "image/png": "[encoded data removed]",
      "text/plain": [
       "<Figure size 432x288 with 2 Axes>"
      ]
     },
     "metadata": {
      "needs_background": "light"
     },
     "output_type": "display_data"
    }
   ],
   "source": [
    "fig, axs = plt.subplots(1,2)\n",
    "fig.suptitle('Initial random heads distributions')\n",
    "\n",
    "axs[0].set_title('Upper leaflet')\n",
    "axs[0].scatter(coordinates_upper[:,0], coordinates_upper[:,1], marker=\".\", alpha=0.5)\n",
    "axs[0].axis('square')\n",
    "axs[0].set_xlim([0.0, membrane_side._value])\n",
    "axs[0].set_ylim([0.0, membrane_side._value])\n",
    "\n",
    "axs[1].set_title('Bottom leaflet')\n",
    "axs[1].scatter(coordinates_bottom[:,0], coordinates_bottom[:,1], marker=\".\", alpha=0.5)\n",
    "axs[1].axis('square')\n",
    "axs[1].set_xlim([0.0, membrane_side._value])\n",
    "axs[1].set_ylim([0.0, membrane_side._value])\n",
    "\n",
    "plt.show()"
   ]
  },
  {
   "cell_type": "markdown",
   "metadata": {},
   "source": [
    "2D Lennard-Jones fluid simulation with growing particles:"
   ]
  },
  {
   "cell_type": "code",
   "execution_count": 33,
   "metadata": {},
   "outputs": [],
   "source": [
    "from simtk import openmm as mm\n",
    "from simtk.openmm import app"
   ]
  },
  {
   "cell_type": "code",
   "execution_count": null,
   "metadata": {},
   "outputs": [],
   "source": [
    "n_particles = 10\n",
    "mass = 50.0 * unit.amu\n",
    "sigma = 3.4 * unit.angstroms\n",
    "epsilon = 0.238 * unit.kilocalories_per_mole\n",
    "charge = 0.0 * unit.elementary_charge"
   ]
  },
  {
   "cell_type": "code",
   "execution_count": null,
   "metadata": {},
   "outputs": [],
   "source": [
    "system = mm.System()\n",
    "\n",
    "nb = mm.NonbondedForce()\n",
    "nb.setNonbondedMethod(mm.NonbondedForce.CutoffPeriodic)\n",
    "nb.setCutoffDistance(2.0*sigma)\n",
    "nb.setUseDispersionCorrection(True) #\n",
    "\n",
    "for particle_index in range(n_particles):\n",
    "    system.addParticle(mass)\n",
    "    nb.addParticle(charge, sigma, epsilon)\n",
    "\n",
    "_ = system.addForce(nb)"
   ]
  },
  {
   "cell_type": "code",
   "execution_count": null,
   "metadata": {},
   "outputs": [],
   "source": [
    "force = mm.CustomExternalForce('k * (z^2)')\n",
    "force.addGlobalParameter('k', 100)\n",
    "for particle_index in range(n_particles):\n",
    "    force.addParticle(particle_index, [])\n",
    "\n",
    "_ = system.addForce(force)"
   ]
  },
  {
   "cell_type": "code",
   "execution_count": null,
   "metadata": {},
   "outputs": [],
   "source": [
    "box_x = 15.0 * unit.angstroms\n",
    "box_y = 15.0 * unit.angstroms\n",
    "box_z = 15.0 * unit.angstroms\n",
    "\n",
    "v1 = [box_x, 0.0*unit.angstroms, 0.0*unit.angstroms]\n",
    "v2 = [0.0*unit.angstroms, box_y, 0.0*unit.angstroms]\n",
    "v3 = [0.0*unit.angstroms, 0.0*unit.angstroms, box_z]\n",
    "\n",
    "system.setDefaultPeriodicBoxVectors(v1, v2, v3)"
   ]
  },
  {
   "cell_type": "code",
   "execution_count": null,
   "metadata": {},
   "outputs": [],
   "source": [
    "coordinates = np.zeros([n_particles, 3]) * unit.angstroms\n",
    "\n",
    "random_generator = np.random.default_rng()\n",
    "coordinates[:,0] = random_generator.uniform(0.0, 1.0, n_particles) * box_x\n",
    "coordinates[:,1] = random_generator.uniform(0.0, 1.0, n_particles) * box_y"
   ]
  },
  {
   "cell_type": "code",
   "execution_count": null,
   "metadata": {},
   "outputs": [],
   "source": [
    "integrator = mm.LangevinIntegrator(300 * unit.kelvin, 1.0 / unit.picosecond, 0.002 * unit.picoseconds)"
   ]
  },
  {
   "cell_type": "code",
   "execution_count": null,
   "metadata": {},
   "outputs": [],
   "source": [
    "platform = mm.Platform.getPlatformByName('CUDA')"
   ]
  },
  {
   "cell_type": "code",
   "execution_count": null,
   "metadata": {},
   "outputs": [],
   "source": [
    "context = mm.Context(system, integrator, platform)"
   ]
  },
  {
   "cell_type": "code",
   "execution_count": null,
   "metadata": {},
   "outputs": [],
   "source": [
    "context.setPositions(coordinates)\n",
    "context.setVelocitiesToTemperature(300*unit.kelvin)"
   ]
  },
  {
   "cell_type": "code",
   "execution_count": null,
   "metadata": {},
   "outputs": [],
   "source": [
    "state = context.getState(getEnergy=True)\n",
    "state.getPotentialEnergy()"
   ]
  },
  {
   "cell_type": "code",
   "execution_count": null,
   "metadata": {},
   "outputs": [],
   "source": [
    "for l in np.linspace(0.01, 1.0, num=100, endpoint=True):\n",
    "    \n",
    "    for ii in range(n_particles):\n",
    "        nb.setParticleParameters(ii, charge, sigma*l, epsilon)\n",
    "    \n",
    "    mm.LocalEnergyMinimizer_minimize(context)\n",
    "    integrator.step(1000)"
   ]
  },
  {
   "cell_type": "code",
   "execution_count": null,
   "metadata": {},
   "outputs": [],
   "source": [
    "state = context.getState(getEnergy=True)\n",
    "state.getPotentialEnergy()"
   ]
  },
  {
   "cell_type": "code",
   "execution_count": null,
   "metadata": {},
   "outputs": [],
   "source": [
    "state = context.getState(getPositions=True)\n",
    "coordinates = state.getPositions()\n",
    "print(coordinates)"
   ]
  },
  {
   "cell_type": "markdown",
   "metadata": {},
   "source": [
    "# Building a leaflet"
   ]
  },
  {
   "cell_type": "code",
   "execution_count": null,
   "metadata": {},
   "outputs": [],
   "source": [
    "import openmembrane as om"
   ]
  },
  {
   "cell_type": "code",
   "execution_count": null,
   "metadata": {},
   "outputs": [],
   "source": [
    "box_x = 2.7\n",
    "box_y = 2.7\n",
    "radii=[0.1, 0.1, 0.1, 0.1, 0.1, 0.1, 0.1, 0.1, 0.2, 0.2, 0.2, 0.2, 0.2, 0.3, 0.3, 0.3, 0.3, 0.4, 0.4, 0.4, 0.4, 0.4]"
   ]
  },
  {
   "cell_type": "code",
   "execution_count": null,
   "metadata": {},
   "outputs": [],
   "source": [
    "leaflet = om.build_leaflet(box_x, box_y, radii)"
   ]
  },
  {
   "cell_type": "code",
   "execution_count": null,
   "metadata": {},
   "outputs": [],
   "source": [
    "leaflet"
   ]
  },
  {
   "cell_type": "code",
   "execution_count": null,
   "metadata": {},
   "outputs": [],
   "source": [
    "fig, ax = plt.subplots()\n",
    "\n",
    "ax.scatter(leaflet[:,0], leaflet[:,1], s=1)\n",
    "ax.set_aspect('equal')\n",
    "ax.set_xlim([0.0, box_x])\n",
    "ax.set_ylim([0.0, box_y])\n",
    "\n",
    "for ii in range(len(radii)):\n",
    "    radius = radii[ii]\n",
    "    x = leaflet[ii,0]\n",
    "    y = leaflet[ii,1]\n",
    "    new_circle = plt.Circle((x, y), radius, fill=False)\n",
    "    ax.add_artist(new_circle)\n",
    "\n",
    "plt.show()"
   ]
  },
  {
   "cell_type": "code",
   "execution_count": null,
   "metadata": {},
   "outputs": [],
   "source": [
    "\n",
    "\n",
    "    \n",
    "    "
   ]
  },
  {
   "cell_type": "code",
   "execution_count": null,
   "metadata": {},
   "outputs": [],
   "source": []
  }
 ],
 "metadata": {
  "kernelspec": {
   "display_name": "Python 3",
   "language": "python",
   "name": "python3"
  },
  "language_info": {
   "codemirror_mode": {
    "name": "ipython",
    "version": 3
   },
   "file_extension": ".py",
   "mimetype": "text/x-python",
   "name": "python",
   "nbconvert_exporter": "python",
   "pygments_lexer": "ipython3",
   "version": "3.7.7"
  }
 },
 "nbformat": 4,
 "nbformat_minor": 4
}
