{
 "cells": [
  {
   "cell_type": "code",
   "execution_count": null,
   "metadata": {},
   "outputs": [],
   "source": [
    "%load_ext autoreload\n",
    "%autoreload 2"
   ]
  },
  {
   "cell_type": "code",
   "execution_count": null,
   "metadata": {},
   "outputs": [],
   "source": [
    "import numpy as np\n",
    "import matplotlib.pyplot as plt"
   ]
  },
  {
   "cell_type": "markdown",
   "metadata": {},
   "source": [
    "# Hard spheres simulation (Lennard-Jones fluid)"
   ]
  },
  {
   "cell_type": "code",
   "execution_count": 1,
   "metadata": {},
   "outputs": [],
   "source": [
    "from simtk import openmm as mm\n",
    "from simtk import unit\n",
    "from simtk.openmm import app\n",
    "import numpy as np"
   ]
  },
  {
   "cell_type": "code",
   "execution_count": 2,
   "metadata": {},
   "outputs": [],
   "source": [
    "n_particles = 10\n",
    "mass = 50.0 * unit.amu\n",
    "sigma = 3.4 * unit.angstroms\n",
    "epsilon = 0.238 * unit.kilocalories_per_mole\n",
    "charge = 0.0 * unit.elementary_charge"
   ]
  },
  {
   "cell_type": "code",
   "execution_count": 3,
   "metadata": {},
   "outputs": [],
   "source": [
    "system = mm.System()\n",
    "\n",
    "nb = mm.NonbondedForce()\n",
    "nb.setNonbondedMethod(mm.NonbondedForce.CutoffPeriodic)\n",
    "nb.setCutoffDistance(2.0*sigma)\n",
    "nb.setUseDispersionCorrection(True) #\n",
    "\n",
    "for particle_index in range(n_particles):\n",
    "    system.addParticle(mass)\n",
    "    nb.addParticle(charge, sigma, epsilon)\n",
    "\n",
    "_ = system.addForce(nb)"
   ]
  },
  {
   "cell_type": "code",
   "execution_count": 4,
   "metadata": {},
   "outputs": [],
   "source": [
    "force = mm.CustomExternalForce('k * (z^2)')\n",
    "force.addGlobalParameter('k', 100)\n",
    "for particle_index in range(n_particles):\n",
    "    force.addParticle(particle_index, [])\n",
    "\n",
    "_ = system.addForce(force)"
   ]
  },
  {
   "cell_type": "code",
   "execution_count": 5,
   "metadata": {},
   "outputs": [],
   "source": [
    "box_x = 15.0 * unit.angstroms\n",
    "box_y = 15.0 * unit.angstroms\n",
    "box_z = 15.0 * unit.angstroms\n",
    "\n",
    "v1 = [box_x, 0.0*unit.angstroms, 0.0*unit.angstroms]\n",
    "v2 = [0.0*unit.angstroms, box_y, 0.0*unit.angstroms]\n",
    "v3 = [0.0*unit.angstroms, 0.0*unit.angstroms, box_z]\n",
    "\n",
    "system.setDefaultPeriodicBoxVectors(v1, v2, v3)"
   ]
  },
  {
   "cell_type": "code",
   "execution_count": 6,
   "metadata": {},
   "outputs": [],
   "source": [
    "coordinates = np.zeros([n_particles, 3]) * unit.angstroms\n",
    "\n",
    "random_generator = np.random.default_rng()\n",
    "coordinates[:,0] = random_generator.uniform(0.0, 1.0, n_particles) * box_x\n",
    "coordinates[:,1] = random_generator.uniform(0.0, 1.0, n_particles) * box_y"
   ]
  },
  {
   "cell_type": "code",
   "execution_count": 7,
   "metadata": {},
   "outputs": [],
   "source": [
    "integrator = mm.LangevinIntegrator(300 * unit.kelvin, 1.0 / unit.picosecond, 0.002 * unit.picoseconds)"
   ]
  },
  {
   "cell_type": "code",
   "execution_count": 8,
   "metadata": {},
   "outputs": [],
   "source": [
    "platform = mm.Platform.getPlatformByName('CUDA')"
   ]
  },
  {
   "cell_type": "code",
   "execution_count": 9,
   "metadata": {},
   "outputs": [],
   "source": [
    "context = mm.Context(system, integrator, platform)"
   ]
  },
  {
   "cell_type": "code",
   "execution_count": 10,
   "metadata": {},
   "outputs": [],
   "source": [
    "context.setPositions(coordinates)\n",
    "context.setVelocitiesToTemperature(300*unit.kelvin)"
   ]
  },
  {
   "cell_type": "code",
   "execution_count": 11,
   "metadata": {},
   "outputs": [
    {
     "data": {
      "text/plain": [
       "Quantity(value=5.2787222516428125e+20, unit=kilojoule/mole)"
      ]
     },
     "execution_count": 11,
     "metadata": {},
     "output_type": "execute_result"
    }
   ],
   "source": [
    "state = context.getState(getEnergy=True)\n",
    "state.getPotentialEnergy()"
   ]
  },
  {
   "cell_type": "code",
   "execution_count": 12,
   "metadata": {},
   "outputs": [],
   "source": [
    "for l in np.linspace(0.01, 1.0, num=100, endpoint=True):\n",
    "    \n",
    "    for ii in range(n_particles):\n",
    "        nb.setParticleParameters(ii, charge, sigma*l, epsilon)\n",
    "    \n",
    "    mm.LocalEnergyMinimizer_minimize(context)\n",
    "    integrator.step(1000)"
   ]
  },
  {
   "cell_type": "code",
   "execution_count": 13,
   "metadata": {},
   "outputs": [
    {
     "data": {
      "text/plain": [
       "Quantity(value=15147967971326.791, unit=kilojoule/mole)"
      ]
     },
     "execution_count": 13,
     "metadata": {},
     "output_type": "execute_result"
    }
   ],
   "source": [
    "state = context.getState(getEnergy=True)\n",
    "state.getPotentialEnergy()"
   ]
  },
  {
   "cell_type": "code",
   "execution_count": 14,
   "metadata": {},
   "outputs": [
    {
     "name": "stdout",
     "output_type": "stream",
     "text": [
      "[Vec3(x=-1591271.755859375, y=-1637896.92578125, z=-936250.890625), Vec3(x=-5487533.073608398, y=-448028.173828125, z=-734882.6953125), Vec3(x=-3468840.14453125, y=1773393.5, z=530558.6171875), Vec3(x=-3761064.8173828125, y=-2159736.40625, z=-509551.6640625), Vec3(x=1784624.34375, y=-17177.218872070312, z=-519989.71875), Vec3(x=-5231005.15625, y=680032.9536132812, z=1007115.84375), Vec3(x=-2546463.4375, y=-1579928.55859375, z=646945.28125), Vec3(x=282047.52734375, y=-3314716.10546875, z=602017.73046875), Vec3(x=-1582077.09375, y=-8751303.6875, z=870364.90625), Vec3(x=1483718.796875, y=-4728808.9375, z=-1276794.4375)] nm\n"
     ]
    }
   ],
   "source": [
    "state = context.getState(getPositions=True)\n",
    "coordinates = state.getPositions()\n",
    "print(coordinates)"
   ]
  },
  {
   "cell_type": "markdown",
   "metadata": {},
   "source": [
    "# Building a leaflet"
   ]
  },
  {
   "cell_type": "code",
   "execution_count": null,
   "metadata": {},
   "outputs": [],
   "source": [
    "import openmembrane as om"
   ]
  },
  {
   "cell_type": "code",
   "execution_count": null,
   "metadata": {},
   "outputs": [],
   "source": [
    "box_x = 2.7\n",
    "box_y = 2.7\n",
    "radii=[0.1, 0.1, 0.1, 0.1, 0.1, 0.1, 0.1, 0.1, 0.2, 0.2, 0.2, 0.2, 0.2, 0.3, 0.3, 0.3, 0.3, 0.4, 0.4, 0.4, 0.4, 0.4]"
   ]
  },
  {
   "cell_type": "code",
   "execution_count": null,
   "metadata": {},
   "outputs": [],
   "source": [
    "leaflet = om.build_leaflet(box_x, box_y, radii)"
   ]
  },
  {
   "cell_type": "code",
   "execution_count": null,
   "metadata": {},
   "outputs": [],
   "source": [
    "leaflet"
   ]
  },
  {
   "cell_type": "code",
   "execution_count": null,
   "metadata": {},
   "outputs": [],
   "source": [
    "fig, ax = plt.subplots()\n",
    "\n",
    "ax.scatter(leaflet[:,0], leaflet[:,1], s=1)\n",
    "ax.set_aspect('equal')\n",
    "ax.set_xlim([0.0, box_x])\n",
    "ax.set_ylim([0.0, box_y])\n",
    "\n",
    "for ii in range(len(radii)):\n",
    "    radius = radii[ii]\n",
    "    x = leaflet[ii,0]\n",
    "    y = leaflet[ii,1]\n",
    "    new_circle = plt.Circle((x, y), radius, fill=False)\n",
    "    ax.add_artist(new_circle)\n",
    "\n",
    "plt.show()"
   ]
  },
  {
   "cell_type": "code",
   "execution_count": null,
   "metadata": {},
   "outputs": [],
   "source": [
    "\n",
    "\n",
    "    \n",
    "    "
   ]
  },
  {
   "cell_type": "code",
   "execution_count": null,
   "metadata": {},
   "outputs": [],
   "source": []
  }
 ],
 "metadata": {
  "kernelspec": {
   "display_name": "Python 3",
   "language": "python",
   "name": "python3"
  },
  "language_info": {
   "codemirror_mode": {
    "name": "ipython",
    "version": 3
   },
   "file_extension": ".py",
   "mimetype": "text/x-python",
   "name": "python",
   "nbconvert_exporter": "python",
   "pygments_lexer": "ipython3",
   "version": "3.7.7"
  }
 },
 "nbformat": 4,
 "nbformat_minor": 4
}
